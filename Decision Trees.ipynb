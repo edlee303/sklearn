{
 "cells": [
  {
   "cell_type": "code",
   "execution_count": 1,
   "metadata": {},
   "outputs": [],
   "source": [
    "from sklearn.datasets import load_iris\n",
    "from sklearn.tree import DecisionTreeClassifier\n",
    "import pandas as pd\n",
    "iris = load_iris()\n",
    "X = pd.DataFrame(iris.data, columns=iris.feature_names)\n",
    "y = pd.DataFrame(iris.target, columns=['target'])"
   ]
  },
  {
   "cell_type": "code",
   "execution_count": 2,
   "metadata": {},
   "outputs": [],
   "source": [
    "features_target = X.join(y)"
   ]
  },
  {
   "cell_type": "code",
   "execution_count": 3,
   "metadata": {},
   "outputs": [
    {
     "data": {
      "text/plain": [
       "sepal length (cm)    0.782561\n",
       "sepal width (cm)    -0.419446\n",
       "petal length (cm)    0.949043\n",
       "petal width (cm)     0.956464\n",
       "Name: target, dtype: float64"
      ]
     },
     "execution_count": 3,
     "metadata": {},
     "output_type": "execute_result"
    }
   ],
   "source": [
    "features_target.corr()['target'][:-1]"
   ]
  },
  {
   "cell_type": "code",
   "execution_count": 4,
   "metadata": {},
   "outputs": [
    {
     "data": {
      "text/plain": [
       "DecisionTreeClassifier(class_weight=None, criterion='gini', max_depth=2,\n",
       "            max_features=None, max_leaf_nodes=None,\n",
       "            min_impurity_decrease=0.0, min_impurity_split=None,\n",
       "            min_samples_leaf=1, min_samples_split=2,\n",
       "            min_weight_fraction_leaf=0.0, presort=False, random_state=None,\n",
       "            splitter='best')"
      ]
     },
     "execution_count": 4,
     "metadata": {},
     "output_type": "execute_result"
    }
   ],
   "source": [
    "X = iris.data[:, 2:]\n",
    "y = iris.target\n",
    "tree_clf = DecisionTreeClassifier(max_depth=2)\n",
    "tree_clf.fit(X,y)"
   ]
  },
  {
   "cell_type": "code",
   "execution_count": 5,
   "metadata": {},
   "outputs": [
    {
     "data": {
      "text/plain": [
       "array([[0.        , 0.90740741, 0.09259259]])"
      ]
     },
     "execution_count": 5,
     "metadata": {},
     "output_type": "execute_result"
    }
   ],
   "source": [
    "tree_clf.predict_proba([[5,1.5]])"
   ]
  },
  {
   "cell_type": "code",
   "execution_count": 8,
   "metadata": {},
   "outputs": [
    {
     "data": {
      "text/plain": [
       "array([0.96078431, 0.90196078, 0.97916667])"
      ]
     },
     "execution_count": 8,
     "metadata": {},
     "output_type": "execute_result"
    }
   ],
   "source": [
    "from sklearn.model_selection import cross_val_score\n",
    "cross_val_score(tree_clf, X, y, cv=3)"
   ]
  },
  {
   "cell_type": "code",
   "execution_count": 11,
   "metadata": {},
   "outputs": [],
   "source": [
    "import warnings\n",
    "warnings.filterwarnings('ignore')"
   ]
  },
  {
   "cell_type": "code",
   "execution_count": 14,
   "metadata": {},
   "outputs": [
    {
     "data": {
      "text/html": [
       "<div>\n",
       "<style scoped>\n",
       "    .dataframe tbody tr th:only-of-type {\n",
       "        vertical-align: middle;\n",
       "    }\n",
       "\n",
       "    .dataframe tbody tr th {\n",
       "        vertical-align: top;\n",
       "    }\n",
       "\n",
       "    .dataframe thead th {\n",
       "        text-align: right;\n",
       "    }\n",
       "</style>\n",
       "<table border=\"1\" class=\"dataframe\">\n",
       "  <thead>\n",
       "    <tr style=\"text-align: right;\">\n",
       "      <th></th>\n",
       "      <th>mean_fit_time</th>\n",
       "      <th>mean_score_time</th>\n",
       "      <th>mean_test_score</th>\n",
       "      <th>mean_train_score</th>\n",
       "      <th>param_max_depth</th>\n",
       "      <th>param_max_features</th>\n",
       "      <th>param_min_samples_leaf</th>\n",
       "      <th>params</th>\n",
       "      <th>rank_test_score</th>\n",
       "      <th>split0_test_score</th>\n",
       "      <th>split0_train_score</th>\n",
       "      <th>split1_test_score</th>\n",
       "      <th>split1_train_score</th>\n",
       "      <th>split2_test_score</th>\n",
       "      <th>split2_train_score</th>\n",
       "      <th>std_fit_time</th>\n",
       "      <th>std_score_time</th>\n",
       "      <th>std_test_score</th>\n",
       "      <th>std_train_score</th>\n",
       "    </tr>\n",
       "  </thead>\n",
       "  <tbody>\n",
       "    <tr>\n",
       "      <th>25</th>\n",
       "      <td>0.000667</td>\n",
       "      <td>0.000489</td>\n",
       "      <td>0.973333</td>\n",
       "      <td>0.970093</td>\n",
       "      <td>3</td>\n",
       "      <td>3</td>\n",
       "      <td>2</td>\n",
       "      <td>{'max_depth': 3, 'max_features': 3, 'min_sampl...</td>\n",
       "      <td>1</td>\n",
       "      <td>0.980392</td>\n",
       "      <td>0.949495</td>\n",
       "      <td>0.941176</td>\n",
       "      <td>1.000000</td>\n",
       "      <td>1.000000</td>\n",
       "      <td>0.960784</td>\n",
       "      <td>0.000008</td>\n",
       "      <td>0.000002</td>\n",
       "      <td>0.024415</td>\n",
       "      <td>0.021644</td>\n",
       "    </tr>\n",
       "    <tr>\n",
       "      <th>42</th>\n",
       "      <td>0.000671</td>\n",
       "      <td>0.000487</td>\n",
       "      <td>0.960000</td>\n",
       "      <td>0.983462</td>\n",
       "      <td>4</td>\n",
       "      <td>3</td>\n",
       "      <td>1</td>\n",
       "      <td>{'max_depth': 4, 'max_features': 3, 'min_sampl...</td>\n",
       "      <td>2</td>\n",
       "      <td>0.980392</td>\n",
       "      <td>0.979798</td>\n",
       "      <td>0.941176</td>\n",
       "      <td>1.000000</td>\n",
       "      <td>0.958333</td>\n",
       "      <td>0.970588</td>\n",
       "      <td>0.000015</td>\n",
       "      <td>0.000003</td>\n",
       "      <td>0.016209</td>\n",
       "      <td>0.012284</td>\n",
       "    </tr>\n",
       "    <tr>\n",
       "      <th>32</th>\n",
       "      <td>0.000686</td>\n",
       "      <td>0.000490</td>\n",
       "      <td>0.960000</td>\n",
       "      <td>0.966726</td>\n",
       "      <td>3</td>\n",
       "      <td>4</td>\n",
       "      <td>5</td>\n",
       "      <td>{'max_depth': 3, 'max_features': 4, 'min_sampl...</td>\n",
       "      <td>2</td>\n",
       "      <td>0.980392</td>\n",
       "      <td>0.949495</td>\n",
       "      <td>0.901961</td>\n",
       "      <td>0.989899</td>\n",
       "      <td>1.000000</td>\n",
       "      <td>0.960784</td>\n",
       "      <td>0.000007</td>\n",
       "      <td>0.000003</td>\n",
       "      <td>0.042411</td>\n",
       "      <td>0.017022</td>\n",
       "    </tr>\n",
       "    <tr>\n",
       "      <th>30</th>\n",
       "      <td>0.000689</td>\n",
       "      <td>0.000488</td>\n",
       "      <td>0.960000</td>\n",
       "      <td>0.970093</td>\n",
       "      <td>3</td>\n",
       "      <td>4</td>\n",
       "      <td>1</td>\n",
       "      <td>{'max_depth': 3, 'max_features': 4, 'min_sampl...</td>\n",
       "      <td>2</td>\n",
       "      <td>0.980392</td>\n",
       "      <td>0.949495</td>\n",
       "      <td>0.921569</td>\n",
       "      <td>1.000000</td>\n",
       "      <td>0.979167</td>\n",
       "      <td>0.960784</td>\n",
       "      <td>0.000015</td>\n",
       "      <td>0.000002</td>\n",
       "      <td>0.027588</td>\n",
       "      <td>0.021644</td>\n",
       "    </tr>\n",
       "    <tr>\n",
       "      <th>50</th>\n",
       "      <td>0.000688</td>\n",
       "      <td>0.000488</td>\n",
       "      <td>0.960000</td>\n",
       "      <td>0.966726</td>\n",
       "      <td>4</td>\n",
       "      <td>4</td>\n",
       "      <td>5</td>\n",
       "      <td>{'max_depth': 4, 'max_features': 4, 'min_sampl...</td>\n",
       "      <td>2</td>\n",
       "      <td>0.980392</td>\n",
       "      <td>0.949495</td>\n",
       "      <td>0.901961</td>\n",
       "      <td>0.989899</td>\n",
       "      <td>1.000000</td>\n",
       "      <td>0.960784</td>\n",
       "      <td>0.000018</td>\n",
       "      <td>0.000003</td>\n",
       "      <td>0.042411</td>\n",
       "      <td>0.017022</td>\n",
       "    </tr>\n",
       "  </tbody>\n",
       "</table>\n",
       "</div>"
      ],
      "text/plain": [
       "    mean_fit_time  mean_score_time  mean_test_score  mean_train_score  \\\n",
       "25       0.000667         0.000489         0.973333          0.970093   \n",
       "42       0.000671         0.000487         0.960000          0.983462   \n",
       "32       0.000686         0.000490         0.960000          0.966726   \n",
       "30       0.000689         0.000488         0.960000          0.970093   \n",
       "50       0.000688         0.000488         0.960000          0.966726   \n",
       "\n",
       "   param_max_depth param_max_features param_min_samples_leaf  \\\n",
       "25               3                  3                      2   \n",
       "42               4                  3                      1   \n",
       "32               3                  4                      5   \n",
       "30               3                  4                      1   \n",
       "50               4                  4                      5   \n",
       "\n",
       "                                               params  rank_test_score  \\\n",
       "25  {'max_depth': 3, 'max_features': 3, 'min_sampl...                1   \n",
       "42  {'max_depth': 4, 'max_features': 3, 'min_sampl...                2   \n",
       "32  {'max_depth': 3, 'max_features': 4, 'min_sampl...                2   \n",
       "30  {'max_depth': 3, 'max_features': 4, 'min_sampl...                2   \n",
       "50  {'max_depth': 4, 'max_features': 4, 'min_sampl...                2   \n",
       "\n",
       "    split0_test_score  split0_train_score  split1_test_score  \\\n",
       "25           0.980392            0.949495           0.941176   \n",
       "42           0.980392            0.979798           0.941176   \n",
       "32           0.980392            0.949495           0.901961   \n",
       "30           0.980392            0.949495           0.921569   \n",
       "50           0.980392            0.949495           0.901961   \n",
       "\n",
       "    split1_train_score  split2_test_score  split2_train_score  std_fit_time  \\\n",
       "25            1.000000           1.000000            0.960784      0.000008   \n",
       "42            1.000000           0.958333            0.970588      0.000015   \n",
       "32            0.989899           1.000000            0.960784      0.000007   \n",
       "30            1.000000           0.979167            0.960784      0.000015   \n",
       "50            0.989899           1.000000            0.960784      0.000018   \n",
       "\n",
       "    std_score_time  std_test_score  std_train_score  \n",
       "25        0.000002        0.024415         0.021644  \n",
       "42        0.000003        0.016209         0.012284  \n",
       "32        0.000003        0.042411         0.017022  \n",
       "30        0.000002        0.027588         0.021644  \n",
       "50        0.000003        0.042411         0.017022  "
      ]
     },
     "execution_count": 14,
     "metadata": {},
     "output_type": "execute_result"
    }
   ],
   "source": [
    "from sklearn.model_selection import GridSearchCV\n",
    "param_grid = {'max_depth':[2,3,4], 'min_samples_leaf':[1,2,5,10,20,50], 'max_features':[2,3,4]}\n",
    "X = iris.data\n",
    "y = iris.target\n",
    "tree_clf = DecisionTreeClassifier()\n",
    "clf = GridSearchCV(tree_clf, param_grid)\n",
    "clf.fit(X, y)\n",
    "pd.DataFrame(clf.cv_results_).sort_values('mean_test_score', ascending=False).head()"
   ]
  },
  {
   "cell_type": "code",
   "execution_count": null,
   "metadata": {},
   "outputs": [],
   "source": []
  }
 ],
 "metadata": {
  "kernelspec": {
   "display_name": "Python 3",
   "language": "python",
   "name": "python3"
  },
  "language_info": {
   "codemirror_mode": {
    "name": "ipython",
    "version": 3
   },
   "file_extension": ".py",
   "mimetype": "text/x-python",
   "name": "python",
   "nbconvert_exporter": "python",
   "pygments_lexer": "ipython3",
   "version": "3.6.3"
  }
 },
 "nbformat": 4,
 "nbformat_minor": 2
}
