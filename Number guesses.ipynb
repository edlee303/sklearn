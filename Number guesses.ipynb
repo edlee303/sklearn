{
 "cells": [
  {
   "cell_type": "code",
   "execution_count": 52,
   "metadata": {},
   "outputs": [],
   "source": [
    "import pandas as pd\n",
    "import matplotlib.pyplot as plt"
   ]
  },
  {
   "cell_type": "code",
   "execution_count": 53,
   "metadata": {},
   "outputs": [],
   "source": [
    "def guess(x):\n",
    "    \n",
    "    g = 50\n",
    "    l = 1\n",
    "    h = 101\n",
    "    n = 1\n",
    "    \n",
    "    while g != x:\n",
    "        if g < x:\n",
    "            l = g\n",
    "            g = int(g + ((h - g) / 2))\n",
    "        else:\n",
    "            h = g\n",
    "            g = int(l + ((g - l) / 2))\n",
    "        n = n + 1\n",
    "        \n",
    "    return n"
   ]
  },
  {
   "cell_type": "code",
   "execution_count": 54,
   "metadata": {},
   "outputs": [
    {
     "data": {
      "text/plain": [
       "<matplotlib.axes._subplots.AxesSubplot at 0x7f48b140b4a8>"
      ]
     },
     "execution_count": 54,
     "metadata": {},
     "output_type": "execute_result"
    },
    {
     "data": {
      "image/png": "[encoded data removed]",
      "text/plain": [
       "<matplotlib.figure.Figure at 0x7f48b1399080>"
      ]
     },
     "metadata": {},
     "output_type": "display_data"
    }
   ],
   "source": [
    "games = []\n",
    "\n",
    "for x in range(1,100):\n",
    "    games.append(guess(x))\n",
    "    \n",
    "plt.figure()    \n",
    "    \n",
    "df = pd.DataFrame({'guesses':games})\n",
    "df.groupby('guesses').size().plot.bar()"
   ]
  },
  {
   "cell_type": "code",
   "execution_count": 51,
   "metadata": {},
   "outputs": [],
   "source": [
    "def guess5(x):\n",
    "    \n",
    "    g = 20\n",
    "    l = 0\n",
    "    h = 101\n",
    "    n = 1\n",
    "    \n",
    "    while g != x:\n",
    "        if g < x:\n",
    "            l = g\n",
    "            g = int(g + ((h - g) / 5)) + 1\n",
    "        else:\n",
    "            h = g\n",
    "            g = int(l + ((g - l) / 5)) + 1\n",
    "        n = n + 1\n",
    "        \n",
    "    return n"
   ]
  },
  {
   "cell_type": "code",
   "execution_count": 55,
   "metadata": {},
   "outputs": [
    {
     "data": {
      "text/plain": [
       "<matplotlib.axes._subplots.AxesSubplot at 0x7f48b14c7358>"
      ]
     },
     "execution_count": 55,
     "metadata": {},
     "output_type": "execute_result"
    },
    {
     "data": {
      "image/png": "[encoded data removed]",
      "text/plain": [
       "<matplotlib.figure.Figure at 0x7f48b1395208>"
      ]
     },
     "metadata": {},
     "output_type": "display_data"
    }
   ],
   "source": [
    "games = []\n",
    "\n",
    "for x in range(1,100):\n",
    "    games.append(guess5(x))\n",
    "    \n",
    "plt.figure()    \n",
    "    \n",
    "df = pd.DataFrame({'guesses':games})\n",
    "df.groupby('guesses').size().plot.bar()"
   ]
  },
  {
   "cell_type": "code",
   "execution_count": null,
   "metadata": {},
   "outputs": [],
   "source": []
  }
 ],
 "metadata": {
  "kernelspec": {
   "display_name": "Python 3",
   "language": "python",
   "name": "python3"
  },
  "language_info": {
   "codemirror_mode": {
    "name": "ipython",
    "version": 3
   },
   "file_extension": ".py",
   "mimetype": "text/x-python",
   "name": "python",
   "nbconvert_exporter": "python",
   "pygments_lexer": "ipython3",
   "version": "3.6.3"
  }
 },
 "nbformat": 4,
 "nbformat_minor": 2
}
